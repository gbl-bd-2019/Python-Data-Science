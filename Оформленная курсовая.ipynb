{
 "cells": [
  {
   "cell_type": "code",
   "execution_count": 1,
   "metadata": {},
   "outputs": [],
   "source": [
    "import pandas as pd"
   ]
  },
  {
   "cell_type": "markdown",
   "metadata": {},
   "source": [
    "#### Загрузим тестовые данные"
   ]
  },
  {
   "cell_type": "code",
   "execution_count": 2,
   "metadata": {},
   "outputs": [],
   "source": [
    "start_data = pd.read_csv('input/train.csv')"
   ]
  },
  {
   "cell_type": "markdown",
   "metadata": {},
   "source": [
    "#### Обработаем тестовые данные"
   ]
  },
  {
   "cell_type": "markdown",
   "metadata": {},
   "source": [
    "#### Больше всего незаполненных данных в поле \"Healthcare_1\". Заполним эти поля в зависимости от поля \"Social_3\". Путь нахождения метода заполнения см. в файле \"Поиск замены NaN для Healthcare_1\""
   ]
  },
  {
   "cell_type": "code",
   "execution_count": 3,
   "metadata": {},
   "outputs": [],
   "source": [
    "def fill_Healthcare_1_by_Social_3(df, result_df):\n",
    "    all_means = df['Healthcare_1'].mean()\n",
    "    means_res = result_df.groupby('Social_3')[['Healthcare_1']].mean()\n",
    "    NaN_means = means_res.loc[means_res['Healthcare_1'].isnull()]\n",
    "    NoNaN_means = means_res.loc[means_res['Healthcare_1'].notnull()]\n",
    "    NaN_means_s = NaN_means.index.values\n",
    "    NoNaN_means_s = NoNaN_means.index.values\n",
    "    result_df.loc[result_df['Social_3'].isin(NaN_means_s), 'Healthcare_1'] = all_means\n",
    "    for i in NoNaN_means_s:\n",
    "       result_df.loc[(result_df['Social_3'] == i) & \n",
    "                  (result_df['Healthcare_1'].isnull()), 'Healthcare_1'] = means_res.loc[i, 'Healthcare_1']"
   ]
  },
  {
   "cell_type": "markdown",
   "metadata": {},
   "source": [
    "#### Обработаем остальные данные.\n",
    "#### Вначале заменим квартиры с нулевым количеством комнат на квартиры с одной комнатой.\n",
    "#### После этого обработаем площадь. Максимальную трогать не будем, подразумевая, что это может быть квартира со свободной планировкой. Минимально возможную примем как 10 + 5 м. на каждую комнату\n",
    "#### Жилую площадь, где она незаполнена, принимаем как 90% от общей.\n",
    "#### Этажность дома, если она равна нулю или меньше этажа квартиры, примем как этаж квартиры + 2 этажа.\n",
    "#### Если есть год дома больше 2020 или меньше 1800 присвоим этим домам среднее за вычетом подобных значений."
   ]
  },
  {
   "cell_type": "code",
   "execution_count": 4,
   "metadata": {},
   "outputs": [],
   "source": [
    "def clear_other(df):\n",
    "    df.loc[df['Rooms'] == 0] = 1\n",
    "    df.loc[df['Square'] < 10 + 5 * df['Rooms'], 'Square'] = 10 + 5 * df['Rooms']\n",
    "\n",
    "    df.loc[df['LifeSquare'].isnull(), 'LifeSquare'] = df['Square'] * 0.9\n",
    "\n",
    "    df.loc[\n",
    "        ((df['HouseFloor'] == 0) | (df['HouseFloor'] < df['Floor'])), 'HouseFloor'\n",
    "        ] = df['Floor'] + 2\n",
    "\n",
    "    mean_year = df.loc[\n",
    "        ((df['HouseYear'] < 2020) & (df['HouseYear'] > 1800)), 'HouseYear'\n",
    "        ].mean()\n",
    "    df.loc[\n",
    "        ((df['HouseYear'] > 2020) | (df['HouseYear'] < 1800)), 'HouseYear'\n",
    "        ] = mean_year"
   ]
  },
  {
   "cell_type": "markdown",
   "metadata": {},
   "source": [
    "#### И последняя обраболтка - есть три поля, содержащие A и B. Заменим их значения на числовые значения."
   ]
  },
  {
   "cell_type": "code",
   "execution_count": 5,
   "metadata": {},
   "outputs": [],
   "source": [
    "def clear_AB(df):\n",
    "    df['Shops_2'] = (df['Shops_2'] == 'A').astype(int)\n",
    "    df['Ecology_2'] = (df['Ecology_2'] == 'A').astype(int)\n",
    "    df['Ecology_3'] = (df['Ecology_3'] == 'A').astype(int)"
   ]
  },
  {
   "cell_type": "markdown",
   "metadata": {},
   "source": [
    "#### Очищаем тестовые данные"
   ]
  },
  {
   "cell_type": "code",
   "execution_count": 6,
   "metadata": {},
   "outputs": [],
   "source": [
    "fill_Healthcare_1_by_Social_3(start_data, start_data)"
   ]
  },
  {
   "cell_type": "code",
   "execution_count": 7,
   "metadata": {},
   "outputs": [],
   "source": [
    "clear_other(start_data)"
   ]
  },
  {
   "cell_type": "code",
   "execution_count": 8,
   "metadata": {},
   "outputs": [],
   "source": [
    "clear_AB(start_data)"
   ]
  },
  {
   "cell_type": "markdown",
   "metadata": {},
   "source": [
    "#### Разбиваем на параметры и исследуемую величину"
   ]
  },
  {
   "cell_type": "code",
   "execution_count": 9,
   "metadata": {},
   "outputs": [],
   "source": [
    "X = start_data.loc[:, :'Shops_2']\n",
    "y = pd.DataFrame(start_data.loc[:, 'Price'])"
   ]
  },
  {
   "cell_type": "markdown",
   "metadata": {},
   "source": [
    "#### Создаём модель обучения"
   ]
  },
  {
   "cell_type": "code",
   "execution_count": 10,
   "metadata": {},
   "outputs": [],
   "source": [
    "from sklearn.ensemble import RandomForestRegressor"
   ]
  },
  {
   "cell_type": "code",
   "execution_count": 11,
   "metadata": {},
   "outputs": [],
   "source": [
    "model =  RandomForestRegressor(n_estimators=100, max_depth=7, random_state=42)"
   ]
  },
  {
   "cell_type": "markdown",
   "metadata": {},
   "source": [
    "#### Делим данные на тренировочные и проверочные"
   ]
  },
  {
   "cell_type": "code",
   "execution_count": 12,
   "metadata": {},
   "outputs": [],
   "source": [
    "from sklearn.model_selection import train_test_split"
   ]
  },
  {
   "cell_type": "code",
   "execution_count": 13,
   "metadata": {},
   "outputs": [],
   "source": [
    "X_train, X_valid, y_train, y_valid = train_test_split(X, y, test_size=0.3, random_state=42)"
   ]
  },
  {
   "cell_type": "markdown",
   "metadata": {},
   "source": [
    "#### Производим обучение"
   ]
  },
  {
   "cell_type": "code",
   "execution_count": 14,
   "metadata": {},
   "outputs": [
    {
     "data": {
      "text/plain": [
       "RandomForestRegressor(bootstrap=True, criterion='mse', max_depth=7,\n",
       "           max_features='auto', max_leaf_nodes=None,\n",
       "           min_impurity_decrease=0.0, min_impurity_split=None,\n",
       "           min_samples_leaf=1, min_samples_split=2,\n",
       "           min_weight_fraction_leaf=0.0, n_estimators=100, n_jobs=None,\n",
       "           oob_score=False, random_state=42, verbose=0, warm_start=False)"
      ]
     },
     "execution_count": 14,
     "metadata": {},
     "output_type": "execute_result"
    }
   ],
   "source": [
    "model.fit(X_train, y_train.values[:, 0])"
   ]
  },
  {
   "cell_type": "markdown",
   "metadata": {},
   "source": [
    "#### И по обученной моджели предсказываем исследуемую величину в проверочных данных"
   ]
  },
  {
   "cell_type": "code",
   "execution_count": 15,
   "metadata": {},
   "outputs": [],
   "source": [
    "y_pred = model.predict(X_valid)"
   ]
  },
  {
   "cell_type": "markdown",
   "metadata": {},
   "source": [
    "#### проверим получившийся коэффициент R2"
   ]
  },
  {
   "cell_type": "code",
   "execution_count": 16,
   "metadata": {},
   "outputs": [],
   "source": [
    "from sklearn.metrics import r2_score as r2"
   ]
  },
  {
   "cell_type": "code",
   "execution_count": 17,
   "metadata": {},
   "outputs": [
    {
     "data": {
      "text/plain": [
       "0.6702991344741639"
      ]
     },
     "execution_count": 17,
     "metadata": {},
     "output_type": "execute_result"
    }
   ],
   "source": [
    "r2(y_valid, y_pred)"
   ]
  },
  {
   "cell_type": "markdown",
   "metadata": {},
   "source": [
    "#### Получилось 0.67, что нас вполне устроит."
   ]
  },
  {
   "cell_type": "markdown",
   "metadata": {},
   "source": [
    "#### Загружаем тестовые данные"
   ]
  },
  {
   "cell_type": "code",
   "execution_count": 18,
   "metadata": {},
   "outputs": [],
   "source": [
    "test_data = pd.read_csv('input/test.csv')"
   ]
  },
  {
   "cell_type": "markdown",
   "metadata": {},
   "source": [
    "#### Очищаем их"
   ]
  },
  {
   "cell_type": "code",
   "execution_count": 19,
   "metadata": {},
   "outputs": [],
   "source": [
    "fill_Healthcare_1_by_Social_3(start_data, test_data)"
   ]
  },
  {
   "cell_type": "code",
   "execution_count": 20,
   "metadata": {},
   "outputs": [],
   "source": [
    "clear_other(test_data)"
   ]
  },
  {
   "cell_type": "code",
   "execution_count": 21,
   "metadata": {},
   "outputs": [],
   "source": [
    "clear_AB(test_data)"
   ]
  },
  {
   "cell_type": "markdown",
   "metadata": {},
   "source": [
    "#### Проверяем, что все данные заполнены и все в числовых форматах"
   ]
  },
  {
   "cell_type": "code",
   "execution_count": 22,
   "metadata": {},
   "outputs": [
    {
     "name": "stdout",
     "output_type": "stream",
     "text": [
      "<class 'pandas.core.frame.DataFrame'>\n",
      "RangeIndex: 5000 entries, 0 to 4999\n",
      "Data columns (total 19 columns):\n",
      "Id               5000 non-null int64\n",
      "DistrictId       5000 non-null int64\n",
      "Rooms            5000 non-null float64\n",
      "Square           5000 non-null float64\n",
      "LifeSquare       5000 non-null float64\n",
      "KitchenSquare    5000 non-null float64\n",
      "Floor            5000 non-null int64\n",
      "HouseFloor       5000 non-null float64\n",
      "HouseYear        5000 non-null float64\n",
      "Ecology_1        5000 non-null float64\n",
      "Ecology_2        5000 non-null int32\n",
      "Ecology_3        5000 non-null int32\n",
      "Social_1         5000 non-null int64\n",
      "Social_2         5000 non-null int64\n",
      "Social_3         5000 non-null int64\n",
      "Healthcare_1     5000 non-null float64\n",
      "Helthcare_2      5000 non-null int64\n",
      "Shops_1          5000 non-null int64\n",
      "Shops_2          5000 non-null int32\n",
      "dtypes: float64(8), int32(3), int64(8)\n",
      "memory usage: 683.7 KB\n"
     ]
    }
   ],
   "source": [
    "test_data.info()"
   ]
  },
  {
   "cell_type": "markdown",
   "metadata": {},
   "source": [
    "#### Предсказываем исследуемую величину для тестовых данных, создаём необходимый для вывода датафрейм и сохраняем его в файл"
   ]
  },
  {
   "cell_type": "code",
   "execution_count": 23,
   "metadata": {},
   "outputs": [],
   "source": [
    "y_pred_2 = model.predict(test_data)"
   ]
  },
  {
   "cell_type": "code",
   "execution_count": 24,
   "metadata": {},
   "outputs": [],
   "source": [
    "res_data = pd.DataFrame(y_pred_2, columns=['Price'])\n",
    "res_data['Id'] = test_data['Id']"
   ]
  },
  {
   "cell_type": "code",
   "execution_count": 25,
   "metadata": {},
   "outputs": [],
   "source": [
    "res_data.loc[:, ['Id', 'Price']].to_csv('AHidden_predictions.csv', index=False)"
   ]
  },
  {
   "cell_type": "code",
   "execution_count": null,
   "metadata": {},
   "outputs": [],
   "source": []
  }
 ],
 "metadata": {
  "kernelspec": {
   "display_name": "Python 3",
   "language": "python",
   "name": "python3"
  },
  "language_info": {
   "codemirror_mode": {
    "name": "ipython",
    "version": 3
   },
   "file_extension": ".py",
   "mimetype": "text/x-python",
   "name": "python",
   "nbconvert_exporter": "python",
   "pygments_lexer": "ipython3",
   "version": "3.7.3"
  }
 },
 "nbformat": 4,
 "nbformat_minor": 2
}
